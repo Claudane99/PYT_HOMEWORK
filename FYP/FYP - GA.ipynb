{
 "cells": [
  {
   "cell_type": "markdown",
   "id": "343487ca",
   "metadata": {},
   "source": [
    "# DATASETS: STOCK EXCHANGE DATA"
   ]
  },
  {
   "cell_type": "markdown",
   "id": "e76b173e",
   "metadata": {},
   "source": [
    "<img align=\"right\" width = \"300\" src=\"https://wallpapercave.com/wp/wp4113144.jpg\">\n",
    "\n",
    "This Final Project will be usng a dataset obtain from [Kaggle](https://www.kaggle.com/datasets/mattiuzc/stock-exchange-data). This data sets is related to the stock market with differents Index ranging from year 1965 to 2021. We will be using this to shown the trend and the statistical result (*the moving averange of 10 sample & 20 samples*) of over from the year that available and provide visualization for understanding using both **pandas** and **matplotlib**"
   ]
  },
  {
   "cell_type": "markdown",
   "id": "f53e7210",
   "metadata": {},
   "source": [
    "Description of the data sets\n",
    "\n",
    "- **Index** - The market index for the stock market branches \n",
    "- **Date** - The date of the market \n",
    "- **Open** - The starting price of the market on the day\n",
    "- **High** - The maximum value that achieved on the day\n",
    "- **Low** - The minimum value that achieved on the day\n",
    "- **Close** - The closing value that achieved on the day\n",
    "- **Adj Close** - The adjusted closing value that achieved on the day\n",
    "- **Volume** - The trading quantity of the day"
   ]
  },
  {
   "cell_type": "code",
   "execution_count": 1,
   "id": "cc80e081",
   "metadata": {},
   "outputs": [],
   "source": [
    "# Import the required libraries\n",
    "\n",
    "import pandas as pd\n",
    "import matplotlib.pyplot as mp"
   ]
  },
  {
   "cell_type": "code",
   "execution_count": 2,
   "id": "6337f5d6",
   "metadata": {},
   "outputs": [],
   "source": [
    "# Read the csv file that downloaded to further evaluate the info\n",
    "\n",
    "stock_data = pd.read_csv('C:\\\\Users\\\\xc_ch\\\\Desktop\\\\Python_workarea\\\\FYP\\\\indexData.csv', delimiter=',')\n",
    "stock_data_dic = pd.read_csv('C:\\\\Users\\\\xc_ch\\\\Desktop\\\\Python_workarea\\\\FYP\\\\indexInfo.csv', delimiter=',')"
   ]
  },
  {
   "cell_type": "code",
   "execution_count": 3,
   "id": "b16645ec",
   "metadata": {
    "scrolled": true
   },
   "outputs": [
    {
     "data": {
      "text/html": [
       "<div>\n",
       "<style scoped>\n",
       "    .dataframe tbody tr th:only-of-type {\n",
       "        vertical-align: middle;\n",
       "    }\n",
       "\n",
       "    .dataframe tbody tr th {\n",
       "        vertical-align: top;\n",
       "    }\n",
       "\n",
       "    .dataframe thead th {\n",
       "        text-align: right;\n",
       "    }\n",
       "</style>\n",
       "<table border=\"1\" class=\"dataframe\">\n",
       "  <thead>\n",
       "    <tr style=\"text-align: right;\">\n",
       "      <th></th>\n",
       "      <th>Index</th>\n",
       "      <th>Date</th>\n",
       "      <th>Open</th>\n",
       "      <th>High</th>\n",
       "      <th>Low</th>\n",
       "      <th>Close</th>\n",
       "      <th>Adj Close</th>\n",
       "      <th>Volume</th>\n",
       "    </tr>\n",
       "  </thead>\n",
       "  <tbody>\n",
       "    <tr>\n",
       "      <th>0</th>\n",
       "      <td>NYA</td>\n",
       "      <td>1965-12-31</td>\n",
       "      <td>528.690002</td>\n",
       "      <td>528.690002</td>\n",
       "      <td>528.690002</td>\n",
       "      <td>528.690002</td>\n",
       "      <td>528.690002</td>\n",
       "      <td>0.0</td>\n",
       "    </tr>\n",
       "    <tr>\n",
       "      <th>1</th>\n",
       "      <td>NYA</td>\n",
       "      <td>1966-01-03</td>\n",
       "      <td>527.210022</td>\n",
       "      <td>527.210022</td>\n",
       "      <td>527.210022</td>\n",
       "      <td>527.210022</td>\n",
       "      <td>527.210022</td>\n",
       "      <td>0.0</td>\n",
       "    </tr>\n",
       "    <tr>\n",
       "      <th>2</th>\n",
       "      <td>NYA</td>\n",
       "      <td>1966-01-04</td>\n",
       "      <td>527.840027</td>\n",
       "      <td>527.840027</td>\n",
       "      <td>527.840027</td>\n",
       "      <td>527.840027</td>\n",
       "      <td>527.840027</td>\n",
       "      <td>0.0</td>\n",
       "    </tr>\n",
       "    <tr>\n",
       "      <th>3</th>\n",
       "      <td>NYA</td>\n",
       "      <td>1966-01-05</td>\n",
       "      <td>531.119995</td>\n",
       "      <td>531.119995</td>\n",
       "      <td>531.119995</td>\n",
       "      <td>531.119995</td>\n",
       "      <td>531.119995</td>\n",
       "      <td>0.0</td>\n",
       "    </tr>\n",
       "    <tr>\n",
       "      <th>4</th>\n",
       "      <td>NYA</td>\n",
       "      <td>1966-01-06</td>\n",
       "      <td>532.070007</td>\n",
       "      <td>532.070007</td>\n",
       "      <td>532.070007</td>\n",
       "      <td>532.070007</td>\n",
       "      <td>532.070007</td>\n",
       "      <td>0.0</td>\n",
       "    </tr>\n",
       "    <tr>\n",
       "      <th>...</th>\n",
       "      <td>...</td>\n",
       "      <td>...</td>\n",
       "      <td>...</td>\n",
       "      <td>...</td>\n",
       "      <td>...</td>\n",
       "      <td>...</td>\n",
       "      <td>...</td>\n",
       "      <td>...</td>\n",
       "    </tr>\n",
       "    <tr>\n",
       "      <th>112452</th>\n",
       "      <td>N100</td>\n",
       "      <td>2021-05-27</td>\n",
       "      <td>1241.119995</td>\n",
       "      <td>1251.910034</td>\n",
       "      <td>1241.119995</td>\n",
       "      <td>1247.069946</td>\n",
       "      <td>1247.069946</td>\n",
       "      <td>379696400.0</td>\n",
       "    </tr>\n",
       "    <tr>\n",
       "      <th>112453</th>\n",
       "      <td>N100</td>\n",
       "      <td>2021-05-28</td>\n",
       "      <td>1249.469971</td>\n",
       "      <td>1259.209961</td>\n",
       "      <td>1249.030029</td>\n",
       "      <td>1256.599976</td>\n",
       "      <td>1256.599976</td>\n",
       "      <td>160773400.0</td>\n",
       "    </tr>\n",
       "    <tr>\n",
       "      <th>112454</th>\n",
       "      <td>N100</td>\n",
       "      <td>2021-05-31</td>\n",
       "      <td>1256.079956</td>\n",
       "      <td>1258.880005</td>\n",
       "      <td>1248.140015</td>\n",
       "      <td>1248.930054</td>\n",
       "      <td>1248.930054</td>\n",
       "      <td>91173700.0</td>\n",
       "    </tr>\n",
       "    <tr>\n",
       "      <th>112455</th>\n",
       "      <td>N100</td>\n",
       "      <td>2021-06-01</td>\n",
       "      <td>1254.609985</td>\n",
       "      <td>1265.660034</td>\n",
       "      <td>1254.609985</td>\n",
       "      <td>1258.579956</td>\n",
       "      <td>1258.579956</td>\n",
       "      <td>155179900.0</td>\n",
       "    </tr>\n",
       "    <tr>\n",
       "      <th>112456</th>\n",
       "      <td>N100</td>\n",
       "      <td>2021-06-02</td>\n",
       "      <td>1258.489990</td>\n",
       "      <td>1263.709961</td>\n",
       "      <td>1258.239990</td>\n",
       "      <td>1263.619995</td>\n",
       "      <td>1263.619995</td>\n",
       "      <td>148465000.0</td>\n",
       "    </tr>\n",
       "  </tbody>\n",
       "</table>\n",
       "<p>112457 rows × 8 columns</p>\n",
       "</div>"
      ],
      "text/plain": [
       "       Index        Date         Open         High          Low        Close  \\\n",
       "0        NYA  1965-12-31   528.690002   528.690002   528.690002   528.690002   \n",
       "1        NYA  1966-01-03   527.210022   527.210022   527.210022   527.210022   \n",
       "2        NYA  1966-01-04   527.840027   527.840027   527.840027   527.840027   \n",
       "3        NYA  1966-01-05   531.119995   531.119995   531.119995   531.119995   \n",
       "4        NYA  1966-01-06   532.070007   532.070007   532.070007   532.070007   \n",
       "...      ...         ...          ...          ...          ...          ...   \n",
       "112452  N100  2021-05-27  1241.119995  1251.910034  1241.119995  1247.069946   \n",
       "112453  N100  2021-05-28  1249.469971  1259.209961  1249.030029  1256.599976   \n",
       "112454  N100  2021-05-31  1256.079956  1258.880005  1248.140015  1248.930054   \n",
       "112455  N100  2021-06-01  1254.609985  1265.660034  1254.609985  1258.579956   \n",
       "112456  N100  2021-06-02  1258.489990  1263.709961  1258.239990  1263.619995   \n",
       "\n",
       "          Adj Close       Volume  \n",
       "0        528.690002          0.0  \n",
       "1        527.210022          0.0  \n",
       "2        527.840027          0.0  \n",
       "3        531.119995          0.0  \n",
       "4        532.070007          0.0  \n",
       "...             ...          ...  \n",
       "112452  1247.069946  379696400.0  \n",
       "112453  1256.599976  160773400.0  \n",
       "112454  1248.930054   91173700.0  \n",
       "112455  1258.579956  155179900.0  \n",
       "112456  1263.619995  148465000.0  \n",
       "\n",
       "[112457 rows x 8 columns]"
      ]
     },
     "execution_count": 3,
     "metadata": {},
     "output_type": "execute_result"
    }
   ],
   "source": [
    "# Check the data\n",
    "\n",
    "stock_data"
   ]
  },
  {
   "cell_type": "code",
   "execution_count": 4,
   "id": "bb3412d6",
   "metadata": {},
   "outputs": [
    {
     "data": {
      "text/plain": [
       "(112457, 8)"
      ]
     },
     "execution_count": 4,
     "metadata": {},
     "output_type": "execute_result"
    }
   ],
   "source": [
    "# Check the data quantity (columns and rows)\n",
    "\n",
    "stock_data.shape"
   ]
  },
  {
   "cell_type": "code",
   "execution_count": 5,
   "id": "97a900d4",
   "metadata": {},
   "outputs": [
    {
     "data": {
      "text/plain": [
       "['Index', 'Date', 'Open', 'High', 'Low', 'Close', 'Adj Close', 'Volume']"
      ]
     },
     "execution_count": 5,
     "metadata": {},
     "output_type": "execute_result"
    }
   ],
   "source": [
    "# Check the list of the columns\n",
    "\n",
    "list(stock_data.columns)"
   ]
  },
  {
   "cell_type": "code",
   "execution_count": 6,
   "id": "4233b2e7",
   "metadata": {},
   "outputs": [
    {
     "data": {
      "text/plain": [
       "array(['NYA', 'IXIC', 'HSI', '000001.SS', 'GSPTSE', '399001.SZ', 'NSEI',\n",
       "       'GDAXI', 'KS11', 'SSMI', 'TWII', 'J203.JO', 'N225', 'N100'],\n",
       "      dtype=object)"
      ]
     },
     "execution_count": 6,
     "metadata": {},
     "output_type": "execute_result"
    }
   ],
   "source": [
    "# Check the available index\n",
    "\n",
    "stock_data['Index'].unique()"
   ]
  },
  {
   "cell_type": "code",
   "execution_count": 7,
   "id": "bc69c5d3",
   "metadata": {},
   "outputs": [],
   "source": [
    "# Create a dictionary to indicate the short form of the Index\n",
    "\n",
    "dic_index = {'NYA':'New York Stock Exchange',\n",
    "           'IXIC':'Nasdaq',\n",
    "           'HSI':'Hong Kong Stock Exchange',\n",
    "           '000001.SS':'Shanghai Stock Exchange',\n",
    "           'N225':'Tokyo Stock Exchange',\n",
    "           'N100':'Euronet',\n",
    "           '399001.SZ':'Shenzhen Stock Exchange',\n",
    "           'GSPTSE':'Toronto Stock Exchange',\n",
    "           'NSEI':'National Stock Exchange of India',\n",
    "           'GDAXI':'Franfurk Stock Exchange',\n",
    "           'KS11':'Korea Exchange',\n",
    "           'SSMI':'SIX Swiss Exchange',\n",
    "           'TWII':'Taiwan Stock Exchange',\n",
    "           'J203.JO':'Johannesburg Stock Exchange'}"
   ]
  },
  {
   "cell_type": "code",
   "execution_count": 8,
   "id": "4a87fcd6",
   "metadata": {},
   "outputs": [
    {
     "name": "stdout",
     "output_type": "stream",
     "text": [
      "NYA:New York Stock Exchange\n",
      "IXIC:Nasdaq\n",
      "HSI:Hong Kong Stock Exchange\n",
      "000001.SS:Shanghai Stock Exchange\n",
      "N225:Tokyo Stock Exchange\n",
      "N100:Euronet\n",
      "399001.SZ:Shenzhen Stock Exchange\n",
      "GSPTSE:Toronto Stock Exchange\n",
      "NSEI:National Stock Exchange of India\n",
      "GDAXI:Franfurk Stock Exchange\n",
      "KS11:Korea Exchange\n",
      "SSMI:SIX Swiss Exchange\n",
      "TWII:Taiwan Stock Exchange\n",
      "J203.JO:Johannesburg Stock Exchange\n"
     ]
    }
   ],
   "source": [
    "# Using for loop to read all the index and the short form\n",
    "\n",
    "for x,y in dic_index.items():\n",
    "    print(f'{x}:{y}')"
   ]
  },
  {
   "cell_type": "code",
   "execution_count": 9,
   "id": "4f9b24e4",
   "metadata": {},
   "outputs": [
    {
     "data": {
      "text/html": [
       "<div>\n",
       "<style scoped>\n",
       "    .dataframe tbody tr th:only-of-type {\n",
       "        vertical-align: middle;\n",
       "    }\n",
       "\n",
       "    .dataframe tbody tr th {\n",
       "        vertical-align: top;\n",
       "    }\n",
       "\n",
       "    .dataframe thead th {\n",
       "        text-align: right;\n",
       "    }\n",
       "</style>\n",
       "<table border=\"1\" class=\"dataframe\">\n",
       "  <thead>\n",
       "    <tr style=\"text-align: right;\">\n",
       "      <th></th>\n",
       "      <th>0</th>\n",
       "    </tr>\n",
       "  </thead>\n",
       "  <tbody>\n",
       "    <tr>\n",
       "      <th>Index</th>\n",
       "      <td>0</td>\n",
       "    </tr>\n",
       "    <tr>\n",
       "      <th>Date</th>\n",
       "      <td>0</td>\n",
       "    </tr>\n",
       "    <tr>\n",
       "      <th>Open</th>\n",
       "      <td>2204</td>\n",
       "    </tr>\n",
       "    <tr>\n",
       "      <th>High</th>\n",
       "      <td>2204</td>\n",
       "    </tr>\n",
       "    <tr>\n",
       "      <th>Low</th>\n",
       "      <td>2204</td>\n",
       "    </tr>\n",
       "    <tr>\n",
       "      <th>Close</th>\n",
       "      <td>2204</td>\n",
       "    </tr>\n",
       "    <tr>\n",
       "      <th>Adj Close</th>\n",
       "      <td>2204</td>\n",
       "    </tr>\n",
       "    <tr>\n",
       "      <th>Volume</th>\n",
       "      <td>2204</td>\n",
       "    </tr>\n",
       "  </tbody>\n",
       "</table>\n",
       "</div>"
      ],
      "text/plain": [
       "              0\n",
       "Index         0\n",
       "Date          0\n",
       "Open       2204\n",
       "High       2204\n",
       "Low        2204\n",
       "Close      2204\n",
       "Adj Close  2204\n",
       "Volume     2204"
      ]
     },
     "execution_count": 9,
     "metadata": {},
     "output_type": "execute_result"
    }
   ],
   "source": [
    "# Check the amoount of null in the dataframe\n",
    "\n",
    "pd.DataFrame(stock_data.isnull().sum())"
   ]
  },
  {
   "cell_type": "code",
   "execution_count": 10,
   "id": "12050741",
   "metadata": {},
   "outputs": [
    {
     "data": {
      "text/html": [
       "<div>\n",
       "<style scoped>\n",
       "    .dataframe tbody tr th:only-of-type {\n",
       "        vertical-align: middle;\n",
       "    }\n",
       "\n",
       "    .dataframe tbody tr th {\n",
       "        vertical-align: top;\n",
       "    }\n",
       "\n",
       "    .dataframe thead th {\n",
       "        text-align: right;\n",
       "    }\n",
       "</style>\n",
       "<table border=\"1\" class=\"dataframe\">\n",
       "  <thead>\n",
       "    <tr style=\"text-align: right;\">\n",
       "      <th></th>\n",
       "      <th>Count of Nulls</th>\n",
       "      <th>Null_Percentage</th>\n",
       "    </tr>\n",
       "    <tr>\n",
       "      <th>Index</th>\n",
       "      <th></th>\n",
       "      <th></th>\n",
       "    </tr>\n",
       "  </thead>\n",
       "  <tbody>\n",
       "    <tr>\n",
       "      <th>Index</th>\n",
       "      <td>0</td>\n",
       "      <td>0.00000</td>\n",
       "    </tr>\n",
       "    <tr>\n",
       "      <th>Date</th>\n",
       "      <td>0</td>\n",
       "      <td>0.00000</td>\n",
       "    </tr>\n",
       "    <tr>\n",
       "      <th>Open</th>\n",
       "      <td>2204</td>\n",
       "      <td>1.95986</td>\n",
       "    </tr>\n",
       "    <tr>\n",
       "      <th>High</th>\n",
       "      <td>2204</td>\n",
       "      <td>1.95986</td>\n",
       "    </tr>\n",
       "    <tr>\n",
       "      <th>Low</th>\n",
       "      <td>2204</td>\n",
       "      <td>1.95986</td>\n",
       "    </tr>\n",
       "    <tr>\n",
       "      <th>Close</th>\n",
       "      <td>2204</td>\n",
       "      <td>1.95986</td>\n",
       "    </tr>\n",
       "    <tr>\n",
       "      <th>Adj Close</th>\n",
       "      <td>2204</td>\n",
       "      <td>1.95986</td>\n",
       "    </tr>\n",
       "    <tr>\n",
       "      <th>Volume</th>\n",
       "      <td>2204</td>\n",
       "      <td>1.95986</td>\n",
       "    </tr>\n",
       "  </tbody>\n",
       "</table>\n",
       "</div>"
      ],
      "text/plain": [
       "           Count of Nulls  Null_Percentage\n",
       "Index                                     \n",
       "Index                   0          0.00000\n",
       "Date                    0          0.00000\n",
       "Open                 2204          1.95986\n",
       "High                 2204          1.95986\n",
       "Low                  2204          1.95986\n",
       "Close                2204          1.95986\n",
       "Adj Close            2204          1.95986\n",
       "Volume               2204          1.95986"
      ]
     },
     "execution_count": 10,
     "metadata": {},
     "output_type": "execute_result"
    }
   ],
   "source": [
    "# Identify the percentage of Null values and compared in terms of percentage\n",
    "\n",
    "null_df = pd.DataFrame(stock_data.isnull().sum(), columns = ['Count of Nulls'])\n",
    "null_df.index.name = \"Index\"\n",
    "null_df['Null_Percentage'] = pd.DataFrame(null_df/stock_data.shape[0])*100\n",
    "null_df"
   ]
  },
  {
   "cell_type": "code",
   "execution_count": 11,
   "id": "8d81b8c5",
   "metadata": {},
   "outputs": [],
   "source": [
    "# remove the null values\n",
    "\n",
    "stock_data = stock_data.dropna()"
   ]
  },
  {
   "cell_type": "code",
   "execution_count": 12,
   "id": "0cc65b68",
   "metadata": {},
   "outputs": [
    {
     "name": "stderr",
     "output_type": "stream",
     "text": [
      "C:\\Users\\xc_ch\\AppData\\Local\\Temp\\ipykernel_15080\\1438330612.py:3: SettingWithCopyWarning: \n",
      "A value is trying to be set on a copy of a slice from a DataFrame\n",
      "\n",
      "See the caveats in the documentation: https://pandas.pydata.org/pandas-docs/stable/user_guide/indexing.html#returning-a-view-versus-a-copy\n",
      "  stock_data.rename(columns ={'Volume':'Quantity'},inplace = True)\n"
     ]
    },
    {
     "data": {
      "text/html": [
       "<div>\n",
       "<style scoped>\n",
       "    .dataframe tbody tr th:only-of-type {\n",
       "        vertical-align: middle;\n",
       "    }\n",
       "\n",
       "    .dataframe tbody tr th {\n",
       "        vertical-align: top;\n",
       "    }\n",
       "\n",
       "    .dataframe thead th {\n",
       "        text-align: right;\n",
       "    }\n",
       "</style>\n",
       "<table border=\"1\" class=\"dataframe\">\n",
       "  <thead>\n",
       "    <tr style=\"text-align: right;\">\n",
       "      <th></th>\n",
       "      <th>DataType</th>\n",
       "    </tr>\n",
       "  </thead>\n",
       "  <tbody>\n",
       "    <tr>\n",
       "      <th>Index</th>\n",
       "      <td>object</td>\n",
       "    </tr>\n",
       "    <tr>\n",
       "      <th>Date</th>\n",
       "      <td>object</td>\n",
       "    </tr>\n",
       "    <tr>\n",
       "      <th>Open</th>\n",
       "      <td>float64</td>\n",
       "    </tr>\n",
       "    <tr>\n",
       "      <th>High</th>\n",
       "      <td>float64</td>\n",
       "    </tr>\n",
       "    <tr>\n",
       "      <th>Low</th>\n",
       "      <td>float64</td>\n",
       "    </tr>\n",
       "    <tr>\n",
       "      <th>Close</th>\n",
       "      <td>float64</td>\n",
       "    </tr>\n",
       "    <tr>\n",
       "      <th>Adj Close</th>\n",
       "      <td>float64</td>\n",
       "    </tr>\n",
       "    <tr>\n",
       "      <th>Quantity</th>\n",
       "      <td>float64</td>\n",
       "    </tr>\n",
       "  </tbody>\n",
       "</table>\n",
       "</div>"
      ],
      "text/plain": [
       "          DataType\n",
       "Index       object\n",
       "Date        object\n",
       "Open       float64\n",
       "High       float64\n",
       "Low        float64\n",
       "Close      float64\n",
       "Adj Close  float64\n",
       "Quantity   float64"
      ]
     },
     "execution_count": 12,
     "metadata": {},
     "output_type": "execute_result"
    }
   ],
   "source": [
    "# Rename the volumn into quantity and save to original files\n",
    "\n",
    "stock_data.rename(columns ={'Volume':'Quantity'},inplace = True)\n",
    "pd.DataFrame(stock_data.dtypes,columns=['DataType'])"
   ]
  },
  {
   "cell_type": "code",
   "execution_count": 13,
   "id": "9595969b",
   "metadata": {},
   "outputs": [
    {
     "data": {
      "image/png": "[encoded data removed]",
      "text/plain": [
       "<Figure size 432x288 with 1 Axes>"
      ]
     },
     "metadata": {
      "needs_background": "light"
     },
     "output_type": "display_data"
    }
   ],
   "source": [
    "# Group the the data by index and identify the top 4 for futher data visualization\n",
    "\n",
    "stock_data.groupby(['Index']).count().sort_values('Date',ascending=False).head(4)[['Date']].plot(kind = 'bar', stacked = True)\n",
    "mp.xlabel('Index', fontsize = 12)\n",
    "mp.ylabel('Highest Value', fontsize = 12)\n",
    "mp.title('Value obtain in Each Index',fontsize = 24)\n",
    "\n",
    "figure_highest = mp.gcf()"
   ]
  },
  {
   "cell_type": "code",
   "execution_count": 14,
   "id": "fff7591e",
   "metadata": {},
   "outputs": [],
   "source": [
    "# Save the data of each dataframe into different variables\n",
    "\n",
    "index_values = ['NYA', 'N225', 'IXIC', 'GSPTSE']\n",
    "dfs = {}\n",
    "\n",
    "for index in index_values:\n",
    "    df = pd.DataFrame(stock_data[stock_data.Index == index]).set_index('Date')\n",
    "    dfs[f\"df_{index}\"] = df\n",
    "\n",
    "# Access the individual DataFrames\n",
    "df_NYA = dfs['df_NYA']\n",
    "df_N225 = dfs['df_N225']\n",
    "df_IXIC = dfs['df_IXIC']\n",
    "df_GSPTSE = dfs['df_GSPTSE']"
   ]
  },
  {
   "cell_type": "code",
   "execution_count": 15,
   "id": "539acd3f",
   "metadata": {
    "scrolled": true
   },
   "outputs": [
    {
     "data": {
      "image/png": "[encoded data removed]",
      "text/plain": [
       "<Figure size 864x576 with 1 Axes>"
      ]
     },
     "metadata": {
      "needs_background": "light"
     },
     "output_type": "display_data"
    }
   ],
   "source": [
    "# Plot the High value of each dataframe\n",
    "\n",
    "NYA_graph = df_NYA['High'].plot(fontsize = 10,figsize=(12,8),label ='NYA')\n",
    "N225_graph = df_N225['High'].plot(fontsize = 10,figsize=(12,8),label ='N225')\n",
    "GSPRTSE_graph = df_GSPTSE ['High'].plot(fontsize = 10,figsize=(12,8),label ='GSPRTSE')\n",
    "IXIC_graph = df_IXIC ['High'].plot(fontsize = 10,figsize=(12,8),label ='IXIC')\n",
    "\n",
    "mp.legend()\n",
    "mp.show()"
   ]
  },
  {
   "cell_type": "code",
   "execution_count": 16,
   "id": "c66855c7",
   "metadata": {},
   "outputs": [],
   "source": [
    "# Moving average of 10 samples\n",
    "\n",
    "df_list = [df_NYA['High'],df_N225['High'],df_GSPTSE['High'],df_IXIC['High']]\n",
    "\n",
    "# For loop for saving the variables and add new columns\n",
    "\n",
    "for df in range(len(df_list)):\n",
    "    dfs = {}\n",
    "    \n",
    "    #convert to frame and rename high \n",
    "    df = df_list[df].to_frame(name='High')\n",
    "    \n",
    "    #calculate the mean values\n",
    "    df = df.rolling(10,min_periods=1).mean()\n",
    "    \n",
    "    for index in index_values:\n",
    "        dfs[f\"df_{index}\"] = df \n",
    "            \n",
    "# Access the individual DataFrames\n",
    "df_NYA['SMA_10'] = dfs['df_NYA']\n",
    "df_N225['SMA_10'] = dfs['df_N225']\n",
    "df_IXIC['SMA_10'] = dfs['df_IXIC']\n",
    "df_GSPTSE['SMA_10'] = dfs['df_GSPTSE']\n",
    "\n",
    "# Moving average of 20 samples\n",
    "\n",
    "for df in range(len(df_list)):\n",
    "    dfs = {}\n",
    "    df = df_list[df].to_frame(name='High')\n",
    "    df = df.rolling(20,min_periods=1).mean()\n",
    "    for index in index_values:\n",
    "        dfs[f\"df_{index}\"] = df \n",
    "        \n",
    "# Access the individual DataFrames        \n",
    "df_NYA['SMA_20'] = dfs['df_NYA']\n",
    "df_N225['SMA_20'] = dfs['df_N225']\n",
    "df_IXIC['SMA_20'] = dfs['df_IXIC']\n",
    "df_GSPTSE['SMA_20'] = dfs['df_GSPTSE']\n"
   ]
  },
  {
   "cell_type": "code",
   "execution_count": 17,
   "id": "a86bf73d",
   "metadata": {},
   "outputs": [],
   "source": [
    "# Save the new data frame into csv\n",
    "\n",
    "df_NYA.to_csv(\"path_to_file_NYA.csv\", sep=' ')\n",
    "df_N225.to_csv(\"path_to_file_N225.csv\", sep=' ')\n",
    "df_IXIC.to_csv(\"path_to_file_IXIC.csv\", sep=' ')\n",
    "df_GSPTSE.to_csv(\"path_to_file_GSPTSE.csv\", sep=' ')"
   ]
  },
  {
   "cell_type": "code",
   "execution_count": 18,
   "id": "2cb8fc99",
   "metadata": {},
   "outputs": [],
   "source": [
    "# Read the CSV files into DataFrames\n",
    "df_NYA = pd.read_csv(\"path_to_file_NYA.csv\",delimiter = ' ')\n",
    "df_N225 = pd.read_csv(\"path_to_file_N225.csv\",delimiter = ' ')\n",
    "df_IXIC = pd.read_csv(\"path_to_file_IXIC.csv\",delimiter = ' ')\n",
    "df_GSPTSE = pd.read_csv(\"path_to_file_GSPTSE.csv\",delimiter = ' ')\n",
    "\n",
    "# Setting date as Index\n",
    "df_NYA.set_index('Date')\n",
    "df_N225.set_index('Date')\n",
    "df_IXIC.set_index('Date')\n",
    "df_GSPTSE.set_index('Date')\n",
    "\n",
    "# Fucntion to read the graph that wanted\n",
    "def graph_market():\n",
    "    \n",
    "    index_values = ['NYA', 'N225', 'IXIC', 'GSPTSE']\n",
    "\n",
    "    \n",
    "    while True:\n",
    "        try:\n",
    "            y = input(\"Please enter a market: \")\n",
    "\n",
    "            if y not in index_values:\n",
    "                print(\"Invalid market. Please enter one of the following: NYA, N225, IXIC, GSPTSE\")\n",
    "                continue\n",
    "\n",
    "            # Get the DataFrame based on the user input\n",
    "            if y == 'NYA':\n",
    "                selected_df = df_NYA\n",
    "            elif y == 'N225':\n",
    "                selected_df = df_N225\n",
    "            elif y == 'IXIC':\n",
    "                selected_df = df_IXIC\n",
    "            elif y == 'GSPTSE':\n",
    "                selected_df = df_GSPTSE\n",
    "\n",
    "            # Select the specified columns for the chosen market\n",
    "            selected_columns = selected_df[['High', 'SMA_10', 'SMA_20']]\n",
    "\n",
    "            # Plot the selected columns\n",
    "            selected_columns.plot(fontsize=10, figsize=(12, 8), title=y)\n",
    "            mp.ylabel('Value')\n",
    "            mp.show()\n",
    "\n",
    "            break  # Exit the loop after successful plot\n",
    "        \n",
    "        except Exception as e:\n",
    "            print(f\"An error occurred: {str(e)}\")"
   ]
  },
  {
   "cell_type": "code",
   "execution_count": 19,
   "id": "79637b33",
   "metadata": {},
   "outputs": [
    {
     "name": "stdout",
     "output_type": "stream",
     "text": [
      "Please enter a market: NYA\n"
     ]
    },
    {
     "data": {
      "image/png": "[encoded data removed]",
      "text/plain": [
       "<Figure size 864x576 with 1 Axes>"
      ]
     },
     "metadata": {
      "needs_background": "light"
     },
     "output_type": "display_data"
    }
   ],
   "source": [
    "graph_market()"
   ]
  },
  {
   "cell_type": "code",
   "execution_count": null,
   "id": "cd4333a0",
   "metadata": {},
   "outputs": [],
   "source": []
  },
  {
   "cell_type": "code",
   "execution_count": null,
   "id": "752557df",
   "metadata": {},
   "outputs": [],
   "source": []
  }
 ],
 "metadata": {
  "kernelspec": {
   "display_name": "Python 3 (ipykernel)",
   "language": "python",
   "name": "python3"
  },
  "language_info": {
   "codemirror_mode": {
    "name": "ipython",
    "version": 3
   },
   "file_extension": ".py",
   "mimetype": "text/x-python",
   "name": "python",
   "nbconvert_exporter": "python",
   "pygments_lexer": "ipython3",
   "version": "3.9.12"
  }
 },
 "nbformat": 4,
 "nbformat_minor": 5
}
